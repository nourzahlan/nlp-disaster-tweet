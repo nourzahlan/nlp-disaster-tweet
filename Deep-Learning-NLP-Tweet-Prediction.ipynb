{
 "cells": [
  {
   "cell_type": "markdown",
   "id": "specialized-practitioner",
   "metadata": {},
   "source": [
    "# Loading Packages"
   ]
  },
  {
   "cell_type": "code",
   "execution_count": 1,
   "id": "persistent-library",
   "metadata": {},
   "outputs": [
    {
     "name": "stderr",
     "output_type": "stream",
     "text": [
      "Using TensorFlow backend.\n",
      "[nltk_data] Downloading package stopwords to\n",
      "[nltk_data]     /Users/nourzahlan/nltk_data...\n",
      "[nltk_data]   Package stopwords is already up-to-date!\n"
     ]
    }
   ],
   "source": [
    "import os \n",
    "import random as rnd\n",
    "import pandas as pd\n",
    "import numpy as np\n",
    "from tqdm import tqdm\n",
    "import matplotlib.pyplot as plt\n",
    "import spacy\n",
    "import en_core_web_sm\n",
    "import regex as re\n",
    "\n",
    "import nltk\n",
    "from nltk.corpus import stopwords\n",
    "from nltk.stem import WordNetLemmatizer\n",
    "from nltk.tokenize import RegexpTokenizer\n",
    "from nltk.tokenize import word_tokenize\n",
    "from nltk.stem import PorterStemmer\n",
    "\n",
    "from sklearn.model_selection import train_test_split\n",
    "import preprocessor\n",
    "import tensorflow as tf\n",
    "import tensorflow_hub as hub\n",
    "import tensorflow_addons as tfa\n",
    "import keras\n",
    "from keras.preprocessing.text import Tokenizer\n",
    "from tensorflow.keras import Sequential\n",
    "from tensorflow.keras.layers import Conv2D, Flatten, Dense, LSTM, Bidirectional, Dropout, Activation, BatchNormalization, GRU, Embedding\n",
    "from keras.utils import np_utils\n",
    "from keras.layers import GlobalMaxPooling1D, Conv1D, MaxPooling1D, SpatialDropout1D\n",
    "from keras.preprocessing import sequence\n",
    "from keras.preprocessing.text import Tokenizer\n",
    "from keras.callbacks import EarlyStopping\n",
    "\n",
    "%matplotlib inline\n",
    "\n",
    "nltk.download('stopwords')\n",
    "stop_words = set(stopwords.words('english'))\n",
    "nlp = en_core_web_sm.load()"
   ]
  },
  {
   "cell_type": "markdown",
   "id": "straight-lobby",
   "metadata": {},
   "source": [
    "# Loading the Data"
   ]
  },
  {
   "cell_type": "code",
   "execution_count": 2,
   "id": "involved-graph",
   "metadata": {},
   "outputs": [
    {
     "name": "stdout",
     "output_type": "stream",
     "text": [
      "Total number of tweets in training dataframe: 7613\n",
      "Total number of tweets in validation dataframe: 3263\n"
     ]
    }
   ],
   "source": [
    "# Load the datasets\n",
    "df = pd.read_csv('./datasets/train.csv')\n",
    "val_df = pd.read_csv('./datasets/test.csv')\n",
    "\n",
    "print(f\"Total number of tweets in training dataframe: {(len(df))}\")\n",
    "print(f\"Total number of tweets in validation dataframe: {(len(val_df))}\")"
   ]
  },
  {
   "cell_type": "markdown",
   "id": "cardiovascular-departure",
   "metadata": {},
   "source": [
    "# Preprocessing"
   ]
  },
  {
   "cell_type": "code",
   "execution_count": 3,
   "id": "irish-gates",
   "metadata": {},
   "outputs": [
    {
     "name": "stdout",
     "output_type": "stream",
     "text": [
      "original tweet at training position 0\n",
      "Our Deeds are the Reason of this #earthquake May ALLAH Forgive us all\n",
      "Tweet at training position 0 after processing:\n",
      "deed reason earthquake allah forgive\n"
     ]
    }
   ],
   "source": [
    "# Function to clean tweet and return string of lemmatized words\n",
    "def clean_tweet(tweet):\n",
    "    \n",
    "    # remove user handles, hyperlinks, special characters and whitespaces\n",
    "    tweet = tweet.lower()\n",
    "    tweet = re.sub(r\"@\\S+\", \"\", tweet)\n",
    "    tweet = re.sub(r\"http\\S+\", \"\", tweet)\n",
    "    tweet = re.sub(r\"[^a-z ]\", \"\", tweet)\n",
    "    tweet = re.sub(r\"[\\s]+\", \" \", tweet)\n",
    "    tweet = tweet.strip()\n",
    "    \n",
    "    # use spacy to lemmatize and remove stop words\n",
    "    result = ''\n",
    "    doc = nlp(tweet)\n",
    "    for token in doc:\n",
    "        if not token.is_stop:\n",
    "            result += token.lemma_ + ' '\n",
    "\n",
    "    return result[:-1]\n",
    "\n",
    "# Try out funtion on first tweet \n",
    "print(\"original tweet at training position 0\")\n",
    "print(df['text'][0])\n",
    "\n",
    "print(\"Tweet at training position 0 after processing:\")\n",
    "print(clean_tweet(df['text'][0]))\n",
    "\n",
    "df['clean_tweet'] = df['text'].apply(lambda cell: clean_tweet(cell))"
   ]
  },
  {
   "cell_type": "code",
   "execution_count": 4,
   "id": "crazy-ethernet",
   "metadata": {},
   "outputs": [
    {
     "name": "stdout",
     "output_type": "stream",
     "text": [
      "original tweet at training position 0\n",
      "Our Deeds are the Reason of this #earthquake May ALLAH Forgive us all\n",
      "Tweet at training position 0 after processing:\n",
      "['deed', 'reason', 'earthquake', 'allah', 'forgive']\n"
     ]
    }
   ],
   "source": [
    "# Function to preprocess the tweets into list of lemmatized words\n",
    "def process_tweet(tweet):\n",
    "    \n",
    "    # remove user handles, hyperlinks, special characters and whitespaces\n",
    "    tweet = tweet.lower()\n",
    "    tweet = re.sub(r\"@\\S+\", \"\", tweet)\n",
    "    tweet = re.sub(r\"http\\S+\", \"\", tweet)\n",
    "    tweet = re.sub(r\"[^a-z ]\", \"\", tweet)\n",
    "    tweet = re.sub(r\"[\\s]+\", \" \", tweet)\n",
    "    tweet = tweet.strip()\n",
    "    \n",
    "    # use spacy to lemmatize and remove stop words\n",
    "    doc = nlp(tweet)\n",
    "    result = [token.lemma_ for token in doc if not token.is_stop]\n",
    "\n",
    "    return result\n",
    "\n",
    "# Try out funtion on first tweet \n",
    "print(\"original tweet at training position 0\")\n",
    "print(df['text'][0])\n",
    "\n",
    "print(\"Tweet at training position 0 after processing:\")\n",
    "print(process_tweet(df['text'][0]))\n",
    "\n",
    "# Apply preprocessing to the dataframe\n",
    "df['processed_tweet'] = df['text'].apply(lambda cell: process_tweet(cell))"
   ]
  },
  {
   "cell_type": "code",
   "execution_count": 5,
   "id": "otherwise-champion",
   "metadata": {},
   "outputs": [
    {
     "data": {
      "text/html": [
       "<div>\n",
       "<style scoped>\n",
       "    .dataframe tbody tr th:only-of-type {\n",
       "        vertical-align: middle;\n",
       "    }\n",
       "\n",
       "    .dataframe tbody tr th {\n",
       "        vertical-align: top;\n",
       "    }\n",
       "\n",
       "    .dataframe thead th {\n",
       "        text-align: right;\n",
       "    }\n",
       "</style>\n",
       "<table border=\"1\" class=\"dataframe\">\n",
       "  <thead>\n",
       "    <tr style=\"text-align: right;\">\n",
       "      <th></th>\n",
       "      <th>id</th>\n",
       "      <th>keyword</th>\n",
       "      <th>location</th>\n",
       "      <th>text</th>\n",
       "      <th>target</th>\n",
       "      <th>clean_tweet</th>\n",
       "      <th>processed_tweet</th>\n",
       "    </tr>\n",
       "  </thead>\n",
       "  <tbody>\n",
       "    <tr>\n",
       "      <th>0</th>\n",
       "      <td>1</td>\n",
       "      <td>NaN</td>\n",
       "      <td>NaN</td>\n",
       "      <td>Our Deeds are the Reason of this #earthquake M...</td>\n",
       "      <td>1</td>\n",
       "      <td>deed reason earthquake allah forgive</td>\n",
       "      <td>[deed, reason, earthquake, allah, forgive]</td>\n",
       "    </tr>\n",
       "    <tr>\n",
       "      <th>1</th>\n",
       "      <td>4</td>\n",
       "      <td>NaN</td>\n",
       "      <td>NaN</td>\n",
       "      <td>Forest fire near La Ronge Sask. Canada</td>\n",
       "      <td>1</td>\n",
       "      <td>forest fire near la ronge sask canada</td>\n",
       "      <td>[forest, fire, near, la, ronge, sask, canada]</td>\n",
       "    </tr>\n",
       "    <tr>\n",
       "      <th>2</th>\n",
       "      <td>5</td>\n",
       "      <td>NaN</td>\n",
       "      <td>NaN</td>\n",
       "      <td>All residents asked to 'shelter in place' are ...</td>\n",
       "      <td>1</td>\n",
       "      <td>resident ask shelter place notify officer evac...</td>\n",
       "      <td>[resident, ask, shelter, place, notify, office...</td>\n",
       "    </tr>\n",
       "    <tr>\n",
       "      <th>3</th>\n",
       "      <td>6</td>\n",
       "      <td>NaN</td>\n",
       "      <td>NaN</td>\n",
       "      <td>13,000 people receive #wildfires evacuation or...</td>\n",
       "      <td>1</td>\n",
       "      <td>people receive wildfire evacuation order calif...</td>\n",
       "      <td>[people, receive, wildfire, evacuation, order,...</td>\n",
       "    </tr>\n",
       "    <tr>\n",
       "      <th>4</th>\n",
       "      <td>7</td>\n",
       "      <td>NaN</td>\n",
       "      <td>NaN</td>\n",
       "      <td>Just got sent this photo from Ruby #Alaska as ...</td>\n",
       "      <td>1</td>\n",
       "      <td>get send photo ruby alaska smoke wildfire pour...</td>\n",
       "      <td>[get, send, photo, ruby, alaska, smoke, wildfi...</td>\n",
       "    </tr>\n",
       "  </tbody>\n",
       "</table>\n",
       "</div>"
      ],
      "text/plain": [
       "   id keyword location                                               text  \\\n",
       "0   1     NaN      NaN  Our Deeds are the Reason of this #earthquake M...   \n",
       "1   4     NaN      NaN             Forest fire near La Ronge Sask. Canada   \n",
       "2   5     NaN      NaN  All residents asked to 'shelter in place' are ...   \n",
       "3   6     NaN      NaN  13,000 people receive #wildfires evacuation or...   \n",
       "4   7     NaN      NaN  Just got sent this photo from Ruby #Alaska as ...   \n",
       "\n",
       "   target                                        clean_tweet  \\\n",
       "0       1               deed reason earthquake allah forgive   \n",
       "1       1              forest fire near la ronge sask canada   \n",
       "2       1  resident ask shelter place notify officer evac...   \n",
       "3       1  people receive wildfire evacuation order calif...   \n",
       "4       1  get send photo ruby alaska smoke wildfire pour...   \n",
       "\n",
       "                                     processed_tweet  \n",
       "0         [deed, reason, earthquake, allah, forgive]  \n",
       "1      [forest, fire, near, la, ronge, sask, canada]  \n",
       "2  [resident, ask, shelter, place, notify, office...  \n",
       "3  [people, receive, wildfire, evacuation, order,...  \n",
       "4  [get, send, photo, ruby, alaska, smoke, wildfi...  "
      ]
     },
     "execution_count": 5,
     "metadata": {},
     "output_type": "execute_result"
    }
   ],
   "source": [
    "# Verify that all is correct\n",
    "df.head()"
   ]
  },
  {
   "cell_type": "markdown",
   "id": "subtle-bridges",
   "metadata": {},
   "source": [
    "### Train test split"
   ]
  },
  {
   "cell_type": "code",
   "execution_count": 6,
   "id": "remarkable-pension",
   "metadata": {},
   "outputs": [
    {
     "name": "stdout",
     "output_type": "stream",
     "text": [
      "Training entries:  5709\n",
      "Testing entries:  1904\n"
     ]
    }
   ],
   "source": [
    "# Define our X and y variables\n",
    "X = df['processed_tweet']\n",
    "y = df['target']\n",
    "\n",
    "# train test split\n",
    "X_train, X_test, y_train, y_test = train_test_split(X, y, random_state = 42)\n",
    "\n",
    "print(\"Training entries: \", len(X_train))\n",
    "print(\"Testing entries: \", len(X_test))"
   ]
  },
  {
   "cell_type": "markdown",
   "id": "continued-absorption",
   "metadata": {},
   "source": [
    "### Define Hyperparameters"
   ]
  },
  {
   "cell_type": "code",
   "execution_count": 7,
   "id": "warming-kansas",
   "metadata": {},
   "outputs": [],
   "source": [
    "EMBEDDING_DIMENSION = 96\n",
    "VOCABULARY_SIZE = 5000\n",
    "MAX_LENGTH = 30\n",
    "OOV_TOK = '<OOV>'\n",
    "TRUNCATE_TYPE = 'post'\n",
    "PADDING_TYPE = 'post'"
   ]
  },
  {
   "cell_type": "markdown",
   "id": "responsible-public",
   "metadata": {},
   "source": [
    "### Tokenize and Build Vocab"
   ]
  },
  {
   "cell_type": "code",
   "execution_count": 8,
   "id": "artistic-singapore",
   "metadata": {},
   "outputs": [
    {
     "name": "stdout",
     "output_type": "stream",
     "text": [
      "Vocabulary size: 12661\n"
     ]
    }
   ],
   "source": [
    "# Tokenize\n",
    "tokenizer = Tokenizer(num_words=VOCABULARY_SIZE, oov_token=OOV_TOK)\n",
    "tokenizer.fit_on_texts(list(X_train) + list(X_test))\n",
    "\n",
    "# Build Word 2 Ind Dict\n",
    "xtrain_sequences = tokenizer.texts_to_sequences(X_train)\n",
    "xtest_sequences = tokenizer.texts_to_sequences(X_test)\n",
    "word_index = tokenizer.word_index\n",
    "print('Vocabulary size:', len(word_index))"
   ]
  },
  {
   "cell_type": "markdown",
   "id": "terminal-sentence",
   "metadata": {},
   "source": [
    "### Padding"
   ]
  },
  {
   "cell_type": "code",
   "execution_count": 9,
   "id": "small-implementation",
   "metadata": {},
   "outputs": [
    {
     "name": "stdout",
     "output_type": "stream",
     "text": [
      "13\n",
      "30\n"
     ]
    }
   ],
   "source": [
    "# Since the maximum number of characters allowed in a tweet is 280, we set the max length at 30 words\n",
    "# For all inputs to have the same shape we pad sentences \n",
    "xtrain_pad = sequence.pad_sequences(xtrain_sequences, maxlen=MAX_LENGTH, padding=PADDING_TYPE, truncating=TRUNCATE_TYPE)\n",
    "xtest_pad = sequence.pad_sequences(xtest_sequences, maxlen=MAX_LENGTH, padding=PADDING_TYPE, truncating=TRUNCATE_TYPE)\n",
    "print(len(xtrain_sequences[0]))\n",
    "print(len(xtrain_pad[0]))"
   ]
  },
  {
   "cell_type": "code",
   "execution_count": 10,
   "id": "quiet-ebony",
   "metadata": {},
   "outputs": [
    {
     "name": "stdout",
     "output_type": "stream",
     "text": [
      "make sense paper beat rock paper come wood wood able support obliterate rock ? ? ? ? ? ? ? ? ? ? ? ? ? ? ? ? ?\n"
     ]
    }
   ],
   "source": [
    "reverse_word_index = dict([(value, key) for (key, value) in word_index.items()])\n",
    "\n",
    "def decode_article(text):\n",
    "     return ' '.join([reverse_word_index.get(i, '?') for i in text])\n",
    "print(decode_article(xtrain_pad[0]))"
   ]
  },
  {
   "cell_type": "markdown",
   "id": "natural-grenada",
   "metadata": {},
   "source": [
    "# Modeling"
   ]
  },
  {
   "cell_type": "code",
   "execution_count": 11,
   "id": "appropriate-balance",
   "metadata": {},
   "outputs": [],
   "source": [
    "# helper function to plot graphs, source: https://www.tensorflow.org/tutorials/text/text_classification_rnn\n",
    "def plot_graphs(history, metric):\n",
    "    plt.plot(history.history[metric])\n",
    "    plt.plot(history.history['val_'+metric], '')\n",
    "    plt.xlabel(\"Epochs\")\n",
    "    plt.ylabel(metric)\n",
    "    plt.legend([metric, 'val_'+metric])"
   ]
  },
  {
   "cell_type": "markdown",
   "id": "large-cambodia",
   "metadata": {},
   "source": [
    "## 1- Learning Embeddings"
   ]
  },
  {
   "cell_type": "code",
   "execution_count": 12,
   "id": "sweet-there",
   "metadata": {},
   "outputs": [],
   "source": [
    "model = Sequential()\n",
    "model.add(Embedding(len(word_index) + 1, EMBEDDING_DIMENSION))\n",
    "model.add(Bidirectional(LSTM(EMBEDDING_DIMENSION, dropout=0.3, recurrent_dropout=0.3)))\n",
    "model.add(Dense(EMBEDDING_DIMENSION, activation='relu'))\n",
    "model.add(Dropout(0.8))\n",
    "model.add(Dense(EMBEDDING_DIMENSION, activation='relu'))\n",
    "model.add(Dropout(0.8))\n",
    "model.add(Dense(1))\n",
    "\n",
    "model.compile(optimizer='adam',\n",
    "              loss=tf.losses.BinaryCrossentropy(from_logits=True),\n",
    "              metrics=[tf.metrics.BinaryAccuracy(threshold=0.0, name='accuracy')])"
   ]
  },
  {
   "cell_type": "code",
   "execution_count": 13,
   "id": "going-universe",
   "metadata": {},
   "outputs": [
    {
     "name": "stdout",
     "output_type": "stream",
     "text": [
      "Epoch 1/10\n",
      "179/179 - 13s - loss: 0.6780 - accuracy: 0.5684 - val_loss: 0.5520 - val_accuracy: 0.7353\n",
      "Epoch 2/10\n",
      "179/179 - 9s - loss: 0.4971 - accuracy: 0.7830 - val_loss: 0.4455 - val_accuracy: 0.8004\n",
      "Epoch 3/10\n",
      "179/179 - 9s - loss: 0.3663 - accuracy: 0.8522 - val_loss: 0.4762 - val_accuracy: 0.7967\n",
      "Epoch 4/10\n",
      "179/179 - 9s - loss: 0.2868 - accuracy: 0.8877 - val_loss: 0.5092 - val_accuracy: 0.7768\n",
      "Epoch 5/10\n",
      "179/179 - 8s - loss: 0.2278 - accuracy: 0.9157 - val_loss: 0.6745 - val_accuracy: 0.7689\n",
      "Epoch 6/10\n",
      "179/179 - 7s - loss: 0.1695 - accuracy: 0.9369 - val_loss: 0.8628 - val_accuracy: 0.7705\n",
      "Epoch 7/10\n",
      "179/179 - 8s - loss: 0.1354 - accuracy: 0.9471 - val_loss: 1.1274 - val_accuracy: 0.7673\n",
      "Epoch 8/10\n",
      "179/179 - 8s - loss: 0.1099 - accuracy: 0.9571 - val_loss: 1.4150 - val_accuracy: 0.7595\n",
      "Epoch 9/10\n",
      "179/179 - 8s - loss: 0.0952 - accuracy: 0.9569 - val_loss: 2.0520 - val_accuracy: 0.7511\n",
      "Epoch 10/10\n",
      "179/179 - 8s - loss: 0.0976 - accuracy: 0.9594 - val_loss: 1.7822 - val_accuracy: 0.7369\n"
     ]
    }
   ],
   "source": [
    "num_epochs = 10\n",
    "history = model.fit(xtrain_pad, \n",
    "                    y_train, \n",
    "                    epochs=num_epochs,\n",
    "                    validation_data=(xtest_pad, y_test), verbose=2)"
   ]
  },
  {
   "cell_type": "code",
   "execution_count": 14,
   "id": "otherwise-representation",
   "metadata": {},
   "outputs": [
    {
     "name": "stdout",
     "output_type": "stream",
     "text": [
      "Model: \"sequential\"\n",
      "_________________________________________________________________\n",
      "Layer (type)                 Output Shape              Param #   \n",
      "=================================================================\n",
      "embedding (Embedding)        (None, None, 96)          1215552   \n",
      "_________________________________________________________________\n",
      "bidirectional (Bidirectional (None, 192)               148224    \n",
      "_________________________________________________________________\n",
      "dense (Dense)                (None, 96)                18528     \n",
      "_________________________________________________________________\n",
      "dropout (Dropout)            (None, 96)                0         \n",
      "_________________________________________________________________\n",
      "dense_1 (Dense)              (None, 96)                9312      \n",
      "_________________________________________________________________\n",
      "dropout_1 (Dropout)          (None, 96)                0         \n",
      "_________________________________________________________________\n",
      "dense_2 (Dense)              (None, 1)                 97        \n",
      "=================================================================\n",
      "Total params: 1,391,713\n",
      "Trainable params: 1,391,713\n",
      "Non-trainable params: 0\n",
      "_________________________________________________________________\n"
     ]
    }
   ],
   "source": [
    "model.summary()"
   ]
  },
  {
   "cell_type": "code",
   "execution_count": 15,
   "id": "civic-malta",
   "metadata": {},
   "outputs": [
    {
     "data": {
      "image/png": "[encoded data removed]",
      "text/plain": [
       "<Figure size 432x288 with 1 Axes>"
      ]
     },
     "metadata": {
      "needs_background": "light"
     },
     "output_type": "display_data"
    }
   ],
   "source": [
    "# Plot loss over time\n",
    "history_dict = history.history\n",
    "\n",
    "acc = history_dict['accuracy']\n",
    "val_acc = history_dict['val_accuracy']\n",
    "loss = history_dict['loss']\n",
    "val_loss = history_dict['val_loss']\n",
    "\n",
    "epochs = range(1, len(acc) + 1)\n",
    "\n",
    "# \"bo\" is for \"blue dot\"\n",
    "plt.plot(epochs, loss, 'bo', label='Training loss')\n",
    "# b is for \"solid blue line\"\n",
    "plt.plot(epochs, val_loss, 'b', label='Validation loss')\n",
    "plt.title('Training and validation loss')\n",
    "plt.xlabel('Epochs')\n",
    "plt.ylabel('Loss')\n",
    "plt.legend()\n",
    "\n",
    "plt.show()"
   ]
  },
  {
   "cell_type": "code",
   "execution_count": 16,
   "id": "double-tourist",
   "metadata": {},
   "outputs": [
    {
     "data": {
      "image/png": "[encoded data removed]",
      "text/plain": [
       "<Figure size 432x288 with 1 Axes>"
      ]
     },
     "metadata": {
      "needs_background": "light"
     },
     "output_type": "display_data"
    }
   ],
   "source": [
    "# plot accuracy over time\n",
    "plt.plot(epochs, acc, 'bo', label='Training acc')\n",
    "plt.plot(epochs, val_acc, 'b', label='Validation acc')\n",
    "plt.title('Training and validation accuracy')\n",
    "plt.xlabel('Epochs')\n",
    "plt.ylabel('Accuracy')\n",
    "plt.legend()\n",
    "\n",
    "plt.show()"
   ]
  },
  {
   "cell_type": "markdown",
   "id": "opponent-antarctica",
   "metadata": {},
   "source": [
    "## 2- Using Embeddings from SpaCy"
   ]
  },
  {
   "cell_type": "markdown",
   "id": "reliable-administrator",
   "metadata": {},
   "source": [
    "### Build Vocabulary"
   ]
  },
  {
   "cell_type": "code",
   "execution_count": 17,
   "id": "acute-minneapolis",
   "metadata": {},
   "outputs": [],
   "source": [
    "index_embed = {}\n",
    "\n",
    "for word, index in word_index.items():\n",
    "    index_embed[index] = nlp(word).vector"
   ]
  },
  {
   "cell_type": "markdown",
   "id": "organized-nirvana",
   "metadata": {},
   "source": [
    "### Reshape Inputs"
   ]
  },
  {
   "cell_type": "code",
   "execution_count": 18,
   "id": "structural-circulation",
   "metadata": {},
   "outputs": [],
   "source": [
    "# number of examples\n",
    "m_train = xtrain_pad.shape[0]\n",
    "m_test = xtest_pad.shape[0]\n",
    "\n",
    "# initalize array\n",
    "xtrain_embed = np.zeros((m_train, MAX_LENGTH, EMBEDDING_DIMENSION))\n",
    "xtest_embed = np.zeros((m_test, MAX_LENGTH, EMBEDDING_DIMENSION))\n",
    "\n",
    "# Populate arrays with vector representations of words\n",
    "for i in range(m_train):\n",
    "    for ind, word_ind in enumerate(xtrain_pad[i]):\n",
    "        xtrain_embed[i, ind] = index_embed.get(word_ind, np.zeros(96))\n",
    "        \n",
    "for i in range(m_test):\n",
    "    for ind, word_ind in enumerate(xtest_pad[i]):\n",
    "        xtest_embed[i, ind] = index_embed.get(word_ind, np.zeros(96))\n"
   ]
  },
  {
   "cell_type": "code",
   "execution_count": 19,
   "id": "external-evidence",
   "metadata": {},
   "outputs": [],
   "source": [
    "model = Sequential()\n",
    "\n",
    "model.add(Bidirectional(LSTM(EMBEDDING_DIMENSION, dropout=0.3, recurrent_dropout=0.3)))\n",
    "model.add(Dense(EMBEDDING_DIMENSION, activation='relu'))\n",
    "model.add(Dropout(0.8))\n",
    "model.add(Dense(EMBEDDING_DIMENSION, activation='relu'))\n",
    "model.add(Dropout(0.8))\n",
    "model.add(Dense(1))\n",
    "\n",
    "model.compile(optimizer='adam',\n",
    "              loss=tf.losses.BinaryCrossentropy(from_logits=True),\n",
    "              metrics=[tf.metrics.BinaryAccuracy(threshold=0.0, name='accuracy')])"
   ]
  },
  {
   "cell_type": "code",
   "execution_count": 20,
   "id": "atmospheric-strand",
   "metadata": {},
   "outputs": [
    {
     "name": "stdout",
     "output_type": "stream",
     "text": [
      "Epoch 1/20\n",
      "179/179 - 10s - loss: 0.7047 - accuracy: 0.5428 - val_loss: 0.6703 - val_accuracy: 0.5730\n",
      "Epoch 2/20\n",
      "179/179 - 7s - loss: 0.6739 - accuracy: 0.5679 - val_loss: 0.6604 - val_accuracy: 0.6534\n",
      "Epoch 3/20\n",
      "179/179 - 6s - loss: 0.6581 - accuracy: 0.5917 - val_loss: 0.6329 - val_accuracy: 0.6833\n",
      "Epoch 4/20\n",
      "179/179 - 6s - loss: 0.6568 - accuracy: 0.6118 - val_loss: 0.6334 - val_accuracy: 0.6828\n",
      "Epoch 5/20\n",
      "179/179 - 5s - loss: 0.6457 - accuracy: 0.6318 - val_loss: 0.6449 - val_accuracy: 0.6439\n",
      "Epoch 6/20\n",
      "179/179 - 5s - loss: 0.6305 - accuracy: 0.6395 - val_loss: 0.6054 - val_accuracy: 0.7022\n",
      "Epoch 7/20\n",
      "179/179 - 5s - loss: 0.6220 - accuracy: 0.6570 - val_loss: 0.5988 - val_accuracy: 0.7127\n",
      "Epoch 8/20\n",
      "179/179 - 5s - loss: 0.6123 - accuracy: 0.6591 - val_loss: 0.5960 - val_accuracy: 0.7075\n",
      "Epoch 9/20\n",
      "179/179 - 5s - loss: 0.6039 - accuracy: 0.6782 - val_loss: 0.5875 - val_accuracy: 0.7159\n",
      "Epoch 10/20\n",
      "179/179 - 5s - loss: 0.5958 - accuracy: 0.6873 - val_loss: 0.5829 - val_accuracy: 0.7227\n",
      "Epoch 11/20\n",
      "179/179 - 6s - loss: 0.5840 - accuracy: 0.7113 - val_loss: 0.5653 - val_accuracy: 0.7274\n",
      "Epoch 12/20\n",
      "179/179 - 6s - loss: 0.5720 - accuracy: 0.7175 - val_loss: 0.5611 - val_accuracy: 0.7432\n",
      "Epoch 13/20\n",
      "179/179 - 6s - loss: 0.5648 - accuracy: 0.7213 - val_loss: 0.5461 - val_accuracy: 0.7332\n",
      "Epoch 14/20\n",
      "179/179 - 6s - loss: 0.5598 - accuracy: 0.7327 - val_loss: 0.5634 - val_accuracy: 0.7285\n",
      "Epoch 15/20\n",
      "179/179 - 6s - loss: 0.5406 - accuracy: 0.7432 - val_loss: 0.5455 - val_accuracy: 0.7295\n",
      "Epoch 16/20\n",
      "179/179 - 6s - loss: 0.5351 - accuracy: 0.7455 - val_loss: 0.5335 - val_accuracy: 0.7458\n",
      "Epoch 17/20\n",
      "179/179 - 6s - loss: 0.5304 - accuracy: 0.7441 - val_loss: 0.5312 - val_accuracy: 0.7474\n",
      "Epoch 18/20\n",
      "179/179 - 6s - loss: 0.5160 - accuracy: 0.7579 - val_loss: 0.5347 - val_accuracy: 0.7489\n",
      "Epoch 19/20\n",
      "179/179 - 6s - loss: 0.5072 - accuracy: 0.7695 - val_loss: 0.5246 - val_accuracy: 0.7574\n",
      "Epoch 20/20\n",
      "179/179 - 6s - loss: 0.4981 - accuracy: 0.7702 - val_loss: 0.5282 - val_accuracy: 0.7595\n"
     ]
    }
   ],
   "source": [
    "num_epochs = 20\n",
    "history = model.fit(xtrain_embed, \n",
    "                    y_train, \n",
    "                    epochs=num_epochs,\n",
    "                    validation_data=(xtest_embed, y_test), verbose=2)"
   ]
  },
  {
   "cell_type": "code",
   "execution_count": 21,
   "id": "balanced-revelation",
   "metadata": {},
   "outputs": [
    {
     "data": {
      "image/png": "[encoded data removed]",
      "text/plain": [
       "<Figure size 432x288 with 1 Axes>"
      ]
     },
     "metadata": {
      "needs_background": "light"
     },
     "output_type": "display_data"
    }
   ],
   "source": [
    "# Plot loss over time\n",
    "history_dict = history.history\n",
    "\n",
    "acc = history_dict['accuracy']\n",
    "val_acc = history_dict['val_accuracy']\n",
    "loss = history_dict['loss']\n",
    "val_loss = history_dict['val_loss']\n",
    "\n",
    "epochs = range(1, len(acc) + 1)\n",
    "\n",
    "# \"bo\" is for \"blue dot\"\n",
    "plt.plot(epochs, loss, 'bo', label='Training loss')\n",
    "# b is for \"solid blue line\"\n",
    "plt.plot(epochs, val_loss, 'b', label='Validation loss')\n",
    "plt.title('Training and validation loss')\n",
    "plt.xlabel('Epochs')\n",
    "plt.ylabel('Loss')\n",
    "plt.legend()\n",
    "\n",
    "plt.show()"
   ]
  },
  {
   "cell_type": "code",
   "execution_count": 22,
   "id": "blind-spank",
   "metadata": {},
   "outputs": [
    {
     "data": {
      "image/png": "[encoded data removed]",
      "text/plain": [
       "<Figure size 432x288 with 1 Axes>"
      ]
     },
     "metadata": {
      "needs_background": "light"
     },
     "output_type": "display_data"
    }
   ],
   "source": [
    "# plot accuracy over time\n",
    "plt.plot(epochs, acc, 'bo', label='Training acc')\n",
    "plt.plot(epochs, val_acc, 'b', label='Validation acc')\n",
    "plt.title('Training and validation accuracy')\n",
    "plt.xlabel('Epochs')\n",
    "plt.ylabel('Accuracy')\n",
    "plt.legend()\n",
    "\n",
    "plt.show()"
   ]
  },
  {
   "cell_type": "markdown",
   "id": "empty-boundary",
   "metadata": {},
   "source": [
    " ## 3- TensorFlow Hub model google/nnlm-en-dim50/2"
   ]
  },
  {
   "cell_type": "markdown",
   "id": "moved-bidding",
   "metadata": {},
   "source": [
    "Source: https://www.tensorflow.org/hub/tutorials/tf2_text_classification"
   ]
  },
  {
   "cell_type": "code",
   "execution_count": 23,
   "id": "progressive-oklahoma",
   "metadata": {},
   "outputs": [
    {
     "name": "stdout",
     "output_type": "stream",
     "text": [
      "Training entries:  5709\n",
      "Testing entries:  1904\n"
     ]
    }
   ],
   "source": [
    "# Define our X and y variables\n",
    "X = df['clean_tweet']\n",
    "y = df['target']\n",
    "\n",
    "# train test split\n",
    "X_train, X_test, y_train, y_test = train_test_split(X, y, random_state = 42)\n",
    "\n",
    "print(\"Training entries: \", len(X_train))\n",
    "print(\"Testing entries: \", len(X_test))"
   ]
  },
  {
   "cell_type": "code",
   "execution_count": 24,
   "id": "opposite-retention",
   "metadata": {},
   "outputs": [],
   "source": [
    "model = \"https://tfhub.dev/google/nnlm-en-dim50/2\"\n",
    "hub_layer = hub.KerasLayer(model, input_shape=[], dtype=tf.string, trainable=True)\n",
    "embed = hub.load(\"https://tfhub.dev/google/nnlm-en-dim50/2\")"
   ]
  },
  {
   "cell_type": "code",
   "execution_count": 40,
   "id": "constitutional-separate",
   "metadata": {},
   "outputs": [
    {
     "name": "stdout",
     "output_type": "stream",
     "text": [
      "Model: \"sequential_6\"\n",
      "_________________________________________________________________\n",
      "Layer (type)                 Output Shape              Param #   \n",
      "=================================================================\n",
      "keras_layer (KerasLayer)     (None, 50)                48190600  \n",
      "_________________________________________________________________\n",
      "dropout_12 (Dropout)         (None, 50)                0         \n",
      "_________________________________________________________________\n",
      "dense_14 (Dense)             (None, 16)                816       \n",
      "_________________________________________________________________\n",
      "dropout_13 (Dropout)         (None, 16)                0         \n",
      "_________________________________________________________________\n",
      "dense_15 (Dense)             (None, 1)                 17        \n",
      "=================================================================\n",
      "Total params: 48,191,433\n",
      "Trainable params: 48,191,433\n",
      "Non-trainable params: 0\n",
      "_________________________________________________________________\n"
     ]
    }
   ],
   "source": [
    "model = Sequential()\n",
    "model.add(hub_layer)\n",
    "model.add(Dropout(0.8))\n",
    "model.add(Dense(16, activation='relu'))\n",
    "model.add(Dropout(0.8))\n",
    "model.add(Dense(1))\n",
    "\n",
    "model.summary()"
   ]
  },
  {
   "cell_type": "code",
   "execution_count": 41,
   "id": "olympic-costume",
   "metadata": {},
   "outputs": [],
   "source": [
    "model.compile(optimizer='adam',\n",
    "              loss=tf.losses.BinaryCrossentropy(from_logits=True),\n",
    "              metrics=[tf.metrics.BinaryAccuracy(threshold=0.0, name='accuracy')])"
   ]
  },
  {
   "cell_type": "code",
   "execution_count": 42,
   "id": "unknown-share",
   "metadata": {},
   "outputs": [
    {
     "name": "stdout",
     "output_type": "stream",
     "text": [
      "Epoch 1/10\n",
      "23/23 - 9s - loss: 0.7341 - accuracy: 0.5582 - val_loss: 0.6196 - val_accuracy: 0.6828\n",
      "Epoch 2/10\n",
      "23/23 - 8s - loss: 0.6387 - accuracy: 0.6385 - val_loss: 0.5822 - val_accuracy: 0.7563\n",
      "Epoch 3/10\n",
      "23/23 - 8s - loss: 0.5734 - accuracy: 0.7024 - val_loss: 0.5514 - val_accuracy: 0.7679\n",
      "Epoch 4/10\n",
      "23/23 - 8s - loss: 0.5248 - accuracy: 0.7381 - val_loss: 0.5256 - val_accuracy: 0.7742\n",
      "Epoch 5/10\n",
      "23/23 - 8s - loss: 0.4840 - accuracy: 0.7747 - val_loss: 0.5055 - val_accuracy: 0.7763\n",
      "Epoch 6/10\n",
      "23/23 - 8s - loss: 0.4526 - accuracy: 0.7989 - val_loss: 0.4918 - val_accuracy: 0.7784\n",
      "Epoch 7/10\n",
      "23/23 - 8s - loss: 0.4206 - accuracy: 0.8247 - val_loss: 0.4832 - val_accuracy: 0.7794\n",
      "Epoch 8/10\n",
      "23/23 - 8s - loss: 0.3918 - accuracy: 0.8429 - val_loss: 0.4789 - val_accuracy: 0.7773\n",
      "Epoch 9/10\n",
      "23/23 - 8s - loss: 0.3809 - accuracy: 0.8522 - val_loss: 0.4794 - val_accuracy: 0.7768\n",
      "Epoch 10/10\n",
      "23/23 - 8s - loss: 0.3718 - accuracy: 0.8599 - val_loss: 0.4828 - val_accuracy: 0.7794\n"
     ]
    }
   ],
   "source": [
    "history = model.fit(X_train,\n",
    "                    y_train,\n",
    "                    epochs=10,\n",
    "                    batch_size=256,\n",
    "                    validation_data=(X_test, y_test),\n",
    "                    verbose=2)"
   ]
  },
  {
   "cell_type": "code",
   "execution_count": 43,
   "id": "institutional-disaster",
   "metadata": {},
   "outputs": [
    {
     "data": {
      "image/png": "[encoded data removed]",
      "text/plain": [
       "<Figure size 432x288 with 1 Axes>"
      ]
     },
     "metadata": {
      "needs_background": "light"
     },
     "output_type": "display_data"
    }
   ],
   "source": [
    "# Plot loss over time\n",
    "history_dict = history.history\n",
    "\n",
    "acc = history_dict['accuracy']\n",
    "val_acc = history_dict['val_accuracy']\n",
    "loss = history_dict['loss']\n",
    "val_loss = history_dict['val_loss']\n",
    "\n",
    "epochs = range(1, len(acc) + 1)\n",
    "\n",
    "# \"bo\" is for \"blue dot\"\n",
    "plt.plot(epochs, loss, 'bo', label='Training loss')\n",
    "# b is for \"solid blue line\"\n",
    "plt.plot(epochs, val_loss, 'b', label='Validation loss')\n",
    "plt.title('Training and validation loss')\n",
    "plt.xlabel('Epochs')\n",
    "plt.ylabel('Loss')\n",
    "plt.legend()\n",
    "\n",
    "plt.show()"
   ]
  },
  {
   "cell_type": "code",
   "execution_count": 44,
   "id": "temporal-concert",
   "metadata": {},
   "outputs": [
    {
     "data": {
      "image/png": "[encoded data removed]",
      "text/plain": [
       "<Figure size 432x288 with 1 Axes>"
      ]
     },
     "metadata": {
      "needs_background": "light"
     },
     "output_type": "display_data"
    }
   ],
   "source": [
    "# plot accuracy over time\n",
    "plt.plot(epochs, acc, 'bo', label='Training acc')\n",
    "plt.plot(epochs, val_acc, 'b', label='Validation acc')\n",
    "plt.title('Training and validation accuracy')\n",
    "plt.xlabel('Epochs')\n",
    "plt.ylabel('Accuracy')\n",
    "plt.legend()\n",
    "\n",
    "plt.show()"
   ]
  },
  {
   "cell_type": "markdown",
   "id": "modular-apollo",
   "metadata": {},
   "source": [
    "## Predict Validation Data"
   ]
  },
  {
   "cell_type": "code",
   "execution_count": 45,
   "id": "respiratory-surrey",
   "metadata": {},
   "outputs": [
    {
     "data": {
      "text/html": [
       "<div>\n",
       "<style scoped>\n",
       "    .dataframe tbody tr th:only-of-type {\n",
       "        vertical-align: middle;\n",
       "    }\n",
       "\n",
       "    .dataframe tbody tr th {\n",
       "        vertical-align: top;\n",
       "    }\n",
       "\n",
       "    .dataframe thead th {\n",
       "        text-align: right;\n",
       "    }\n",
       "</style>\n",
       "<table border=\"1\" class=\"dataframe\">\n",
       "  <thead>\n",
       "    <tr style=\"text-align: right;\">\n",
       "      <th></th>\n",
       "      <th>id</th>\n",
       "      <th>keyword</th>\n",
       "      <th>location</th>\n",
       "      <th>text</th>\n",
       "      <th>clean_tweet</th>\n",
       "      <th>prediction</th>\n",
       "      <th>target</th>\n",
       "    </tr>\n",
       "  </thead>\n",
       "  <tbody>\n",
       "    <tr>\n",
       "      <th>0</th>\n",
       "      <td>0</td>\n",
       "      <td>NaN</td>\n",
       "      <td>NaN</td>\n",
       "      <td>Just happened a terrible car crash</td>\n",
       "      <td>happen terrible car crash</td>\n",
       "      <td>0.722645</td>\n",
       "      <td>1</td>\n",
       "    </tr>\n",
       "    <tr>\n",
       "      <th>1</th>\n",
       "      <td>2</td>\n",
       "      <td>NaN</td>\n",
       "      <td>NaN</td>\n",
       "      <td>Heard about #earthquake is different cities, s...</td>\n",
       "      <td>hear earthquake different city stay safe</td>\n",
       "      <td>1.807646</td>\n",
       "      <td>1</td>\n",
       "    </tr>\n",
       "    <tr>\n",
       "      <th>2</th>\n",
       "      <td>3</td>\n",
       "      <td>NaN</td>\n",
       "      <td>NaN</td>\n",
       "      <td>there is a forest fire at spot pond, geese are...</td>\n",
       "      <td>forest fire spot pond goose flee street save</td>\n",
       "      <td>3.167357</td>\n",
       "      <td>1</td>\n",
       "    </tr>\n",
       "    <tr>\n",
       "      <th>3</th>\n",
       "      <td>9</td>\n",
       "      <td>NaN</td>\n",
       "      <td>NaN</td>\n",
       "      <td>Apocalypse lighting. #Spokane #wildfires</td>\n",
       "      <td>apocalypse lighting spokane wildfire</td>\n",
       "      <td>2.042834</td>\n",
       "      <td>1</td>\n",
       "    </tr>\n",
       "    <tr>\n",
       "      <th>4</th>\n",
       "      <td>11</td>\n",
       "      <td>NaN</td>\n",
       "      <td>NaN</td>\n",
       "      <td>Typhoon Soudelor kills 28 in China and Taiwan</td>\n",
       "      <td>typhoon soudelor kill china taiwan</td>\n",
       "      <td>5.058321</td>\n",
       "      <td>1</td>\n",
       "    </tr>\n",
       "  </tbody>\n",
       "</table>\n",
       "</div>"
      ],
      "text/plain": [
       "   id keyword location                                               text  \\\n",
       "0   0     NaN      NaN                 Just happened a terrible car crash   \n",
       "1   2     NaN      NaN  Heard about #earthquake is different cities, s...   \n",
       "2   3     NaN      NaN  there is a forest fire at spot pond, geese are...   \n",
       "3   9     NaN      NaN           Apocalypse lighting. #Spokane #wildfires   \n",
       "4  11     NaN      NaN      Typhoon Soudelor kills 28 in China and Taiwan   \n",
       "\n",
       "                                    clean_tweet  prediction  target  \n",
       "0                     happen terrible car crash    0.722645       1  \n",
       "1      hear earthquake different city stay safe    1.807646       1  \n",
       "2  forest fire spot pond goose flee street save    3.167357       1  \n",
       "3          apocalypse lighting spokane wildfire    2.042834       1  \n",
       "4            typhoon soudelor kill china taiwan    5.058321       1  "
      ]
     },
     "execution_count": 45,
     "metadata": {},
     "output_type": "execute_result"
    }
   ],
   "source": [
    "# First let us clean the tweets in the validation dataset\n",
    "val_df['clean_tweet'] = val_df['text'].apply(lambda cell: clean_tweet(cell))\n",
    "\n",
    "# Generate predictions\n",
    "val_df['prediction'] = model.predict(val_df['clean_tweet'])\n",
    "val_df['target'] = val_df['prediction'].apply(lambda cell: 1 if cell > 0 else 0)\n",
    "\n",
    "val_df.head()"
   ]
  },
  {
   "cell_type": "markdown",
   "id": "cordless-grass",
   "metadata": {},
   "source": [
    "## Kaggle Submission"
   ]
  },
  {
   "cell_type": "code",
   "execution_count": 46,
   "id": "leading-novelty",
   "metadata": {},
   "outputs": [],
   "source": [
    "# Create submission dataframe\n",
    "submission = pd.DataFrame(columns = ['id', 'target'])\n",
    "submission['id'] = val_df['id']\n",
    "submission['target'] = val_df['target']\n",
    "\n",
    "# Save to csv\n",
    "submission.to_csv('./datasets/submission_nour.csv', index=False)"
   ]
  }
 ],
 "metadata": {
  "kernelspec": {
   "display_name": "Python 3",
   "language": "python",
   "name": "python3"
  },
  "language_info": {
   "codemirror_mode": {
    "name": "ipython",
    "version": 3
   },
   "file_extension": ".py",
   "mimetype": "text/x-python",
   "name": "python",
   "nbconvert_exporter": "python",
   "pygments_lexer": "ipython3",
   "version": "3.7.1"
  }
 },
 "nbformat": 4,
 "nbformat_minor": 5
}
